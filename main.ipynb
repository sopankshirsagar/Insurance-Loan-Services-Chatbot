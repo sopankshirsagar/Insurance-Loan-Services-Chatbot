{
 "cells": [
  {
   "cell_type": "code",
   "execution_count": 24,
   "metadata": {},
   "outputs": [],
   "source": [
    "import pandas as pd "
   ]
  },
  {
   "cell_type": "markdown",
   "metadata": {},
   "source": [
    "## Load and Process the File"
   ]
  },
  {
   "cell_type": "code",
   "execution_count": 25,
   "metadata": {},
   "outputs": [
    {
     "name": "stderr",
     "output_type": "stream",
     "text": [
      "Processing Rows: 100%|██████████| 6/6 [00:00<00:00, 240.91it/s]"
     ]
    },
    {
     "name": "stdout",
     "output_type": "stream",
     "text": [
      "Loaded (len(docs)) documents.\n"
     ]
    },
    {
     "name": "stderr",
     "output_type": "stream",
     "text": [
      "\n"
     ]
    }
   ],
   "source": [
    "import pandas as pd \n",
    "from tqdm import tqdm \n",
    "from langchain.docstore.document import Document\n",
    "import chardet \n",
    "\n",
    "def creare_doc_list_from_excel(file_path):\n",
    "    with open(file_path, 'rb') as file :\n",
    "        raw_data = file.read()\n",
    "        result = chardet.detect(raw_data)\n",
    "        encoding = result['encoding']\n",
    "    df = pd.read_csv(file_path, encoding=encoding, delimiter=',')\n",
    "    df = df.drop_duplicates( )\n",
    "\n",
    "    \n",
    "    \n",
    "    if df.empty:\n",
    "        print(\" File has no data !!! \")\n",
    "        return None\n",
    "    doc_list = doc_creator(df)\n",
    "    return df, doc_list\n",
    "\n",
    "\n",
    "def doc_creator(df):\n",
    "    doc_list= []\n",
    "    avail_columns = df.columns\n",
    "    \n",
    "    \n",
    "    for index, row in tqdm(df.iterrows(), total=len(df), desc='Processing Rows'):\n",
    "        product_string = \"\"\n",
    "        produnct_metadata = {}\n",
    "        for  col in avail_columns:\n",
    "            value =row[col]\n",
    "            product_string += f\"{col}: {value}\\n\"\n",
    "            \n",
    "            if 'name' in col.lower():\n",
    "\n",
    "                produnct_metadata[\"Name\"] = value\n",
    "\n",
    "            elif 'category' in col.lower():\n",
    "\n",
    "                produnct_metadata[\"Categories\"] = value\n",
    "\n",
    "        doc = Document(page_content=product_string, metadata = produnct_metadata)\n",
    "\n",
    "        doc_list.append(doc)\n",
    "\n",
    "    return doc_list\n",
    "\n",
    "# Main code: Provide the file path\n",
    "\n",
    "file_path = r\"insurance_loan_services_enriched.csv\" \n",
    "\n",
    "#Call the function to load the file and process it\n",
    "\n",
    "df, docs = creare_doc_list_from_excel(file_path)\n",
    "\n",
    "if docs is None:\n",
    "    print(\"Failed to load the documents.\")\n",
    "else:\n",
    "    print(\"Loaded (len(docs)) documents.\")\n"
   ]
  },
  {
   "cell_type": "code",
   "execution_count": 27,
   "metadata": {},
   "outputs": [
    {
     "data": {
      "text/plain": [
       "[Document(metadata={'Name': 'Home Loan'}, page_content='Service Name: Home Loan\\nEligibility Criteria: Age 25-60, Income 50000+\\nInterest Rate/Premium: 8% p.a.\\nApplication Process: Apply online, provide ID, proof of income, property documents\\nContact Information: 123-4567890, support@company.com\\nPolicy Terms: Payback in 15 years, EMI starts after 2 months\\nService Locations: Delhi, Mumbai, Bangalore\\nLoan/Insurance Type: Secured Loan\\nApproval Time: 7-10 business days\\nSuggested For: Homebuyers, Families\\nHow To Apply: Apply online, submit documents, get approval\\nEligibility Criteria For: People with stable income\\nReturn Amount/Benefit: 1.2X loan value\\n'),\n",
       " Document(metadata={'Name': 'Personal Loan'}, page_content='Service Name: Personal Loan\\nEligibility Criteria: Age 23-55, Income 40000+\\nInterest Rate/Premium: 10% p.a.\\nApplication Process: Apply online, provide ID, bank statements\\nContact Information: 123-4567891, help@company.com\\nPolicy Terms: Payback in 5 years, EMI starts after 1 month\\nService Locations: Delhi, Mumbai\\nLoan/Insurance Type: Unsecured Loan\\nApproval Time: 5-7 business days\\nSuggested For: Employees, Entrepreneurs\\nHow To Apply: Apply online, get loan amount directly credited\\nEligibility Criteria For: People with low credit score\\nReturn Amount/Benefit: 1.3X loan value\\n'),\n",
       " Document(metadata={'Name': 'Car Loan'}, page_content='Service Name: Car Loan\\nEligibility Criteria: Age 21-60, Income 60000+\\nInterest Rate/Premium: 7.5% p.a.\\nApplication Process: Apply online, provide ID, car details, income proof\\nContact Information: 123-4567892, assist@company.com\\nPolicy Terms: Payback in 7 years, EMI starts after 1 month\\nService Locations: Bangalore, Chennai, Hyderabad\\nLoan/Insurance Type: Secured Loan\\nApproval Time: 5-10 business days\\nSuggested For: Car Owners\\nHow To Apply: Apply online, submit car documents, get funds\\nEligibility Criteria For: People buying a new car\\nReturn Amount/Benefit: 1.5X car value\\n'),\n",
       " Document(metadata={'Name': 'Education Loan'}, page_content='Service Name: Education Loan\\nEligibility Criteria: Age 18-50, Income 30000+\\nInterest Rate/Premium: 5% p.a.\\nApplication Process: Apply online, provide ID, educational documents\\nContact Information: 123-4567893, support@company.com\\nPolicy Terms: Payback in 5 years, EMI starts after 3 months\\nService Locations: Mumbai, Pune\\nLoan/Insurance Type: Unsecured Loan\\nApproval Time: 10-15 business days\\nSuggested For: Students, Parents\\nHow To Apply: Apply online, submit school/college documents\\nEligibility Criteria For: Students needing education funds\\nReturn Amount/Benefit: 1X education loan\\n'),\n",
       " Document(metadata={'Name': 'Term Insurance'}, page_content='Service Name: Term Insurance\\nEligibility Criteria: Age 18-65, No pre-existing conditions\\nInterest Rate/Premium: Premium: 12000-30000 p.a.\\nApplication Process: Apply online, provide ID, health screening, family details\\nContact Information: 123-4567894, care@company.com\\nPolicy Terms: Payback in 10 years, Sum assured after policy period\\nService Locations: Delhi, Bangalore\\nLoan/Insurance Type: Life Insurance\\nApproval Time: 15-30 days\\nSuggested For: Family Heads, Retirees\\nHow To Apply: Apply online, take medical screening, pay premiums\\nEligibility Criteria For: People with family\\nReturn Amount/Benefit: Sum Assured\\n'),\n",
       " Document(metadata={'Name': 'Health Insurance'}, page_content='Service Name: Health Insurance\\nEligibility Criteria: Age 18-60, Medical history required\\nInterest Rate/Premium: Premium: 5000-20000 p.a.\\nApplication Process: Apply online, provide ID, medical reports\\nContact Information: 123-4567895, health@company.com\\nPolicy Terms: Payback in 10 years, Coverage till policy maturity\\nService Locations: Mumbai, Delhi\\nLoan/Insurance Type: Health Insurance\\nApproval Time: 30-60 days\\nSuggested For: Family Heads, Workers\\nHow To Apply: Apply online, provide health details, get approval\\nEligibility Criteria For: People needing health coverage\\nReturn Amount/Benefit: Medical Coverage up to 5L\\n')]"
      ]
     },
     "execution_count": 27,
     "metadata": {},
     "output_type": "execute_result"
    }
   ],
   "source": [
    "docs"
   ]
  },
  {
   "cell_type": "markdown",
   "metadata": {},
   "source": [
    "## Split Documents Using Text Splitter"
   ]
  },
  {
   "cell_type": "code",
   "execution_count": 28,
   "metadata": {},
   "outputs": [
    {
     "data": {
      "text/plain": [
       "[Document(metadata={'Name': 'Home Loan'}, page_content='Service Name: Home Loan\\nEligibility Criteria: Age 25-60, Income 50000+\\nInterest Rate/Premium: 8% p.a.\\nApplication Process: Apply online, provide ID, proof of income, property documents\\nContact Information: 123-4567890, support@company.com\\nPolicy Terms: Payback in 15 years, EMI starts after 2 months\\nService Locations: Delhi, Mumbai, Bangalore\\nLoan/Insurance Type: Secured Loan\\nApproval Time: 7-10 business days\\nSuggested For: Homebuyers, Families\\nHow To Apply: Apply online, submit documents, get approval\\nEligibility Criteria For: People with stable income\\nReturn Amount/Benefit: 1.2X loan value'),\n",
       " Document(metadata={'Name': 'Personal Loan'}, page_content='Service Name: Personal Loan\\nEligibility Criteria: Age 23-55, Income 40000+\\nInterest Rate/Premium: 10% p.a.\\nApplication Process: Apply online, provide ID, bank statements\\nContact Information: 123-4567891, help@company.com\\nPolicy Terms: Payback in 5 years, EMI starts after 1 month\\nService Locations: Delhi, Mumbai\\nLoan/Insurance Type: Unsecured Loan\\nApproval Time: 5-7 business days\\nSuggested For: Employees, Entrepreneurs\\nHow To Apply: Apply online, get loan amount directly credited\\nEligibility Criteria For: People with low credit score\\nReturn Amount/Benefit: 1.3X loan value'),\n",
       " Document(metadata={'Name': 'Car Loan'}, page_content='Service Name: Car Loan\\nEligibility Criteria: Age 21-60, Income 60000+\\nInterest Rate/Premium: 7.5% p.a.\\nApplication Process: Apply online, provide ID, car details, income proof\\nContact Information: 123-4567892, assist@company.com\\nPolicy Terms: Payback in 7 years, EMI starts after 1 month\\nService Locations: Bangalore, Chennai, Hyderabad\\nLoan/Insurance Type: Secured Loan\\nApproval Time: 5-10 business days\\nSuggested For: Car Owners\\nHow To Apply: Apply online, submit car documents, get funds\\nEligibility Criteria For: People buying a new car\\nReturn Amount/Benefit: 1.5X car value'),\n",
       " Document(metadata={'Name': 'Education Loan'}, page_content='Service Name: Education Loan\\nEligibility Criteria: Age 18-50, Income 30000+\\nInterest Rate/Premium: 5% p.a.\\nApplication Process: Apply online, provide ID, educational documents\\nContact Information: 123-4567893, support@company.com\\nPolicy Terms: Payback in 5 years, EMI starts after 3 months\\nService Locations: Mumbai, Pune\\nLoan/Insurance Type: Unsecured Loan\\nApproval Time: 10-15 business days\\nSuggested For: Students, Parents\\nHow To Apply: Apply online, submit school/college documents\\nEligibility Criteria For: Students needing education funds\\nReturn Amount/Benefit: 1X education loan'),\n",
       " Document(metadata={'Name': 'Term Insurance'}, page_content='Service Name: Term Insurance\\nEligibility Criteria: Age 18-65, No pre-existing conditions\\nInterest Rate/Premium: Premium: 12000-30000 p.a.\\nApplication Process: Apply online, provide ID, health screening, family details\\nContact Information: 123-4567894, care@company.com\\nPolicy Terms: Payback in 10 years, Sum assured after policy period\\nService Locations: Delhi, Bangalore\\nLoan/Insurance Type: Life Insurance\\nApproval Time: 15-30 days\\nSuggested For: Family Heads, Retirees\\nHow To Apply: Apply online, take medical screening, pay premiums\\nEligibility Criteria For: People with family\\nReturn Amount/Benefit: Sum Assured'),\n",
       " Document(metadata={'Name': 'Health Insurance'}, page_content='Service Name: Health Insurance\\nEligibility Criteria: Age 18-60, Medical history required\\nInterest Rate/Premium: Premium: 5000-20000 p.a.\\nApplication Process: Apply online, provide ID, medical reports\\nContact Information: 123-4567895, health@company.com\\nPolicy Terms: Payback in 10 years, Coverage till policy maturity\\nService Locations: Mumbai, Delhi\\nLoan/Insurance Type: Health Insurance\\nApproval Time: 30-60 days\\nSuggested For: Family Heads, Workers\\nHow To Apply: Apply online, provide health details, get approval\\nEligibility Criteria For: People needing health coverage\\nReturn Amount/Benefit: Medical Coverage up to 5L')]"
      ]
     },
     "execution_count": 28,
     "metadata": {},
     "output_type": "execute_result"
    }
   ],
   "source": [
    "from langchain_community.embeddings import OllamaEmbeddings\n",
    "from langchain_text_splitters import RecursiveCharacterTextSplitter\n",
    "\n",
    "documents = RecursiveCharacterTextSplitter(chunk_size=1000, chunk_overlap=200).split_documents(docs)\n",
    "documents"
   ]
  },
  {
   "cell_type": "markdown",
   "metadata": {},
   "source": [
    "## Create FAISS Vector Database"
   ]
  },
  {
   "cell_type": "code",
   "execution_count": 32,
   "metadata": {},
   "outputs": [
    {
     "data": {
      "text/plain": [
       "VectorStoreRetriever(tags=['FAISS', 'OllamaEmbeddings'], vectorstore=<langchain_community.vectorstores.faiss.FAISS object at 0x0000011507292390>, search_kwargs={})"
      ]
     },
     "execution_count": 32,
     "metadata": {},
     "output_type": "execute_result"
    }
   ],
   "source": [
    "# from langchain_community.vectorstores import FAISS\n",
    "# data embedding and VEctorstore \n",
    "\n",
    "from langchain.vectorstores import FAISS\n",
    "vectordb = FAISS.from_documents(documents, OllamaEmbeddings())\n",
    "retriver = vectordb.as_retriever()\n",
    "retriver"
   ]
  },
  {
   "cell_type": "markdown",
   "metadata": {},
   "source": [
    "## Create the Retriever Tool"
   ]
  },
  {
   "cell_type": "code",
   "execution_count": 33,
   "metadata": {},
   "outputs": [
    {
     "data": {
      "text/plain": [
       "'insurance_tool'"
      ]
     },
     "execution_count": 33,
     "metadata": {},
     "output_type": "execute_result"
    }
   ],
   "source": [
    "from langchain.tools.retriever import create_retriever_tool\n",
    "\n",
    "retrival_tool = create_retriever_tool(retriver, 'insurance_tool', \"this is tool for Insurance Chatbot\")\n",
    "retrival_tool.name"
   ]
  },
  {
   "cell_type": "code",
   "execution_count": 34,
   "metadata": {},
   "outputs": [],
   "source": [
    "tools = [retrival_tool]"
   ]
  },
  {
   "cell_type": "markdown",
   "metadata": {},
   "source": [
    "## Set Up the Chat Model"
   ]
  },
  {
   "cell_type": "code",
   "execution_count": 35,
   "metadata": {},
   "outputs": [
    {
     "name": "stderr",
     "output_type": "stream",
     "text": [
      "C:\\Users\\sopan\\AppData\\Local\\Temp\\ipykernel_19712\\845362186.py:3: LangChainDeprecationWarning: The class `ChatOllama` was deprecated in LangChain 0.3.1 and will be removed in 1.0.0. An updated version of the class exists in the :class:`~langchain-ollama package and should be used instead. To use it run `pip install -U :class:`~langchain-ollama` and import as `from :class:`~langchain_ollama import ChatOllama``.\n",
      "  llm = ChatOllama(model='llama2')\n"
     ]
    }
   ],
   "source": [
    "from langchain_community.chat_models import ChatOllama\n",
    "\n",
    "llm = ChatOllama(model='llama2')"
   ]
  },
  {
   "cell_type": "markdown",
   "metadata": {},
   "source": [
    "## Define the System Chat Prompt Template"
   ]
  },
  {
   "cell_type": "code",
   "execution_count": 1,
   "metadata": {},
   "outputs": [],
   "source": [
    "from langchain.prompts import ChatPromptTemplate\n",
    "\n",
    "\n",
    "prompt = ChatPromptTemplate.from_template(\"\"\"\n",
    "You are an intelligent insurance assistant providing concise, pointwise responses based on a knowledge base of various insurance and loan services. Your responses should be:\n",
    "\n",
    "1. **Brief and Clear**: Provide concise, clear, and actionable information.\n",
    "2. **Professional and Helpful**: Maintain a professional tone and focus on answering user queries.\n",
    "3. **Contextual Relevance**: Refer to the context provided to deliver the most relevant and accurate answers based on the insurance/loan service data.\n",
    "4. **Pointwise Structure**: Break down your answers into easy-to-understand, pointwise information.\n",
    "5. **Use the Vector Database**: Utilize the provided vector database to search for relevant information based on the user’s query.\n",
    "\n",
    "<context>\n",
    "{context}\n",
    "</context>\n",
    "Question: {input}\n",
    "{agent_scratchpad}\n",
    "\"\"\")\n",
    "\n"
   ]
  },
  {
   "cell_type": "markdown",
   "metadata": {},
   "source": [
    "## Create OpenAI Tools Agent"
   ]
  },
  {
   "cell_type": "code",
   "execution_count": null,
   "metadata": {},
   "outputs": [],
   "source": [
    "from langchain.agents import create_openai_tools_agent\n",
    "agent = create_openai_tools_agent(llm, tools, prompt)\n",
    "agent"
   ]
  },
  {
   "cell_type": "markdown",
   "metadata": {},
   "source": [
    "## Create Agent Executor"
   ]
  },
  {
   "cell_type": "code",
   "execution_count": 44,
   "metadata": {},
   "outputs": [
    {
     "data": {
      "text/plain": [
       "AgentExecutor(verbose=True, agent=RunnableMultiActionAgent(runnable=RunnableAssign(mapper={\n",
       "  agent_scratchpad: RunnableLambda(lambda x: format_to_openai_tool_messages(x['intermediate_steps']))\n",
       "})\n",
       "| ChatPromptTemplate(input_variables=['agent_scratchpad', 'context', 'input'], input_types={}, partial_variables={}, messages=[HumanMessagePromptTemplate(prompt=PromptTemplate(input_variables=['agent_scratchpad', 'context', 'input'], input_types={}, partial_variables={}, template=\"\\nYou are an insurance assistant providing concise, pointwise answers. Your responses should be:\\n1. Brief, clear, and to the point.\\n2. Professional and helpful.\\n3. Relevant to the user's query.\\n\\n<context>\\n{context}\\n</context>\\nQuestion: {input}\\n{agent_scratchpad}\\n\"), additional_kwargs={})])\n",
       "| RunnableBinding(bound=ChatOllama(), kwargs={'tools': [{'type': 'function', 'function': {'name': 'insurance_tool', 'description': 'this is tool for Insurance Chatbot', 'parameters': {'properties': {'query': {'description': 'query to look up in retriever', 'type': 'string'}}, 'required': ['query'], 'type': 'object'}}}]}, config={}, config_factories=[])\n",
       "| OpenAIToolsAgentOutputParser(), input_keys_arg=[], return_keys_arg=[], stream_runnable=True), tools=[Tool(name='insurance_tool', description='this is tool for Insurance Chatbot', args_schema=<class 'langchain_core.tools.retriever.RetrieverInput'>, func=functools.partial(<function _get_relevant_documents at 0x000001156B410AE0>, retriever=VectorStoreRetriever(tags=['FAISS', 'OllamaEmbeddings'], vectorstore=<langchain_community.vectorstores.faiss.FAISS object at 0x0000011507292390>, search_kwargs={}), document_prompt=PromptTemplate(input_variables=['page_content'], input_types={}, partial_variables={}, template='{page_content}'), document_separator='\\n\\n'), coroutine=functools.partial(<function _aget_relevant_documents at 0x000001156B412CA0>, retriever=VectorStoreRetriever(tags=['FAISS', 'OllamaEmbeddings'], vectorstore=<langchain_community.vectorstores.faiss.FAISS object at 0x0000011507292390>, search_kwargs={}), document_prompt=PromptTemplate(input_variables=['page_content'], input_types={}, partial_variables={}, template='{page_content}'), document_separator='\\n\\n'))])"
      ]
     },
     "execution_count": 44,
     "metadata": {},
     "output_type": "execute_result"
    }
   ],
   "source": [
    "from langchain.agents import AgentExecutor\n",
    "\n",
    "agent_axecuter = AgentExecutor(agent=agent, tools=tools, verbose=True)\n",
    "agent_axecuter"
   ]
  },
  {
   "cell_type": "markdown",
   "metadata": {},
   "source": [
    "####  Process User Query"
   ]
  },
  {
   "cell_type": "code",
   "execution_count": 47,
   "metadata": {},
   "outputs": [],
   "source": [
    "input_query = \"How do I apply for a Personal Loan?\"\n"
   ]
  },
  {
   "cell_type": "code",
   "execution_count": 48,
   "metadata": {},
   "outputs": [
    {
     "name": "stdout",
     "output_type": "stream",
     "text": [
      "\n",
      "\n",
      "\u001b[1m> Entering new AgentExecutor chain...\u001b[0m\n",
      "\u001b[32;1m\u001b[1;3mTo apply for a personal loan, follow these steps:\n",
      "\n",
      "1. Check your credit score and history to ensure you meet the lender's eligibility criteria.\n",
      "2. Research and compare interest rates and terms offered by different lenders.\n",
      "3. Prepare your financial documents, such as income statements, bank statements, and tax returns.\n",
      "4. Choose a reputable lender and submit your application online or through their branch.\n",
      "5. Wait for the lender to process your application and make a decision.\n",
      "\n",
      "Remember to compare interest rates, terms, and fees before making a decision. It's also important to understand the repayment schedule and any potential penalties for late payments.\u001b[0m\n",
      "\n",
      "\u001b[1m> Finished chain.\u001b[0m\n"
     ]
    },
    {
     "data": {
      "text/plain": [
       "{'context': VectorStoreRetriever(tags=['FAISS', 'OllamaEmbeddings'], vectorstore=<langchain_community.vectorstores.faiss.FAISS object at 0x0000011507292390>, search_kwargs={}),\n",
       " 'input': 'How do I apply for a Personal Loan?',\n",
       " 'output': \"To apply for a personal loan, follow these steps:\\n\\n1. Check your credit score and history to ensure you meet the lender's eligibility criteria.\\n2. Research and compare interest rates and terms offered by different lenders.\\n3. Prepare your financial documents, such as income statements, bank statements, and tax returns.\\n4. Choose a reputable lender and submit your application online or through their branch.\\n5. Wait for the lender to process your application and make a decision.\\n\\nRemember to compare interest rates, terms, and fees before making a decision. It's also important to understand the repayment schedule and any potential penalties for late payments.\"}"
      ]
     },
     "execution_count": 48,
     "metadata": {},
     "output_type": "execute_result"
    }
   ],
   "source": [
    "response = agent_axecuter.invoke({'context': retriver, 'input': input_query})\n",
    "response"
   ]
  },
  {
   "cell_type": "markdown",
   "metadata": {},
   "source": [
    "## Save Objects as Pickle Files"
   ]
  },
  {
   "cell_type": "code",
   "execution_count": 46,
   "metadata": {},
   "outputs": [
    {
     "name": "stdout",
     "output_type": "stream",
     "text": [
      "All objects have been successfully saved as pickle files.\n"
     ]
    }
   ],
   "source": [
    "import pickle\n",
    "\n",
    "# Save the VectorDB\n",
    "with open(\"vectordb.pkl\", \"wb\") as vectordb_file:\n",
    "    pickle.dump(vectordb, vectordb_file)\n",
    "\n",
    "# Save the tools\n",
    "with open(\"tools.pkl\", \"wb\") as tools_file:\n",
    "    pickle.dump(tools, tools_file)\n",
    "\n",
    "# Save the LLM model\n",
    "with open(\"llm_model.pkl\", \"wb\") as llm_file:\n",
    "    pickle.dump(llm, llm_file)\n",
    "\n",
    "# Save the prompt\n",
    "with open(\"prompt.pkl\", \"wb\") as prompt_file:\n",
    "    pickle.dump(prompt, prompt_file)\n",
    "\n",
    "print(\"All objects have been successfully saved as pickle files.\")\n"
   ]
  },
  {
   "cell_type": "code",
   "execution_count": null,
   "metadata": {},
   "outputs": [],
   "source": []
  },
  {
   "cell_type": "code",
   "execution_count": null,
   "metadata": {},
   "outputs": [],
   "source": []
  }
 ],
 "metadata": {
  "kernelspec": {
   "display_name": "ChatBot",
   "language": "python",
   "name": "python3"
  },
  "language_info": {
   "codemirror_mode": {
    "name": "ipython",
    "version": 3
   },
   "file_extension": ".py",
   "mimetype": "text/x-python",
   "name": "python",
   "nbconvert_exporter": "python",
   "pygments_lexer": "ipython3",
   "version": "3.11.0"
  }
 },
 "nbformat": 4,
 "nbformat_minor": 2
}
